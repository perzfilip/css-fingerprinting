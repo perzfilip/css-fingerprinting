{
 "cells": [
  {
   "cell_type": "code",
   "id": "initial_id",
   "metadata": {
    "collapsed": true,
    "ExecuteTime": {
     "end_time": "2025-04-10T18:05:34.366140Z",
     "start_time": "2025-04-10T18:05:34.363141Z"
    }
   },
   "source": [
    "import sqlite3\n",
    "\n",
    "import pandas as pd\n",
    "\n",
    "from sklearn.feature_extraction.text import CountVectorizer\n",
    "\n",
    "# CONFIG\n",
    "DB_PATH = '1_after_cleaning_databases/1000_devices_cleaned.db'\n",
    "TABLE_NAME = 'css_attribute'\n",
    "OUTPUT_NAME = 'feature_matrix'\n",
    "\n",
    "## PANDAS\n",
    "pd.set_option('future.no_silent_downcasting', True)\n",
    "pd.set_option('display.width', 400)\n",
    "pd.set_option('display.max_columns', 10)"
   ],
   "outputs": [],
   "execution_count": 59
  },
  {
   "metadata": {},
   "cell_type": "markdown",
   "source": "### Functions",
   "id": "d720651672aba919"
  },
  {
   "metadata": {},
   "cell_type": "markdown",
   "source": "#### Loading data from sqlite to pandas dataframe",
   "id": "5ecea51349fa007e"
  },
  {
   "metadata": {
    "ExecuteTime": {
     "end_time": "2025-04-10T18:05:34.372061Z",
     "start_time": "2025-04-10T18:05:34.369350Z"
    }
   },
   "cell_type": "code",
   "source": [
    "def load_sqlite_to_dataframe(db_path, table_name):\n",
    "    conn = sqlite3.connect(db_path)\n",
    "    df = pd.read_sql(f\"SELECT * FROM {table_name}\", conn)\n",
    "    conn.close()\n",
    "    return df"
   ],
   "id": "c24f32dcdb1eee92",
   "outputs": [],
   "execution_count": 60
  },
  {
   "metadata": {},
   "cell_type": "markdown",
   "source": "#### Changing boolean values to 1 and 0",
   "id": "effd436ed96f8032"
  },
  {
   "metadata": {
    "ExecuteTime": {
     "end_time": "2025-04-10T18:05:34.383387Z",
     "start_time": "2025-04-10T18:05:34.381079Z"
    }
   },
   "cell_type": "code",
   "source": [
    "def convert_booleans(value):\n",
    "    true_values = {'enabled'}\n",
    "    false_values = {'disabled'}\n",
    "\n",
    "    if isinstance(value, str):\n",
    "        val_lower = value.lower()\n",
    "        if val_lower in true_values:\n",
    "            return 1\n",
    "        elif val_lower in false_values:\n",
    "            return 0\n",
    "    return value"
   ],
   "id": "2e0b196a4cddae67",
   "outputs": [],
   "execution_count": 61
  },
  {
   "metadata": {},
   "cell_type": "markdown",
   "source": "#### Constructing feature matrix",
   "id": "35f75cf3c10a4fc2"
  },
  {
   "metadata": {
    "ExecuteTime": {
     "end_time": "2025-04-10T18:05:34.396172Z",
     "start_time": "2025-04-10T18:05:34.393222Z"
    }
   },
   "cell_type": "code",
   "source": [
    "def create_feature_matrix(df):\n",
    "    # Handle fonts\n",
    "    fonts = (\n",
    "        df[df['attribute'] == 'font']\n",
    "        .groupby('session_id')['value']\n",
    "        .apply(lambda x: ' '.join(sorted(set(x))))\n",
    "        .reset_index()\n",
    "    )\n",
    "\n",
    "    # Rest of features\n",
    "    non_fonts = df[df['attribute'] != 'font'].copy()\n",
    "    non_fonts['feature_name'] = non_fonts['source'] + ':' + non_fonts['attribute']\n",
    "\n",
    "    # Apply boolean conversion\n",
    "    non_fonts['value'] = non_fonts['value'].apply(convert_booleans)\n",
    "\n",
    "    # Pivot table\n",
    "    pivot = non_fonts.pivot_table(index='session_id',\n",
    "                                  columns='feature_name',\n",
    "                                  values='value',\n",
    "                                  aggfunc='first').reset_index()\n",
    "\n",
    "    # Merge fonts back\n",
    "    full_df = pivot.merge(fonts, on='session_id', how='left')\n",
    "\n",
    "    return full_df"
   ],
   "id": "2c9bf3dc1c3c0f9f",
   "outputs": [],
   "execution_count": 62
  },
  {
   "metadata": {},
   "cell_type": "markdown",
   "source": "#### Changing font values to one-hot encoding",
   "id": "6225596133ca72f"
  },
  {
   "metadata": {
    "ExecuteTime": {
     "end_time": "2025-04-10T18:05:34.408483Z",
     "start_time": "2025-04-10T18:05:34.404480Z"
    }
   },
   "cell_type": "code",
   "source": [
    "def vectorize_fonts(df, font_column='value'):\n",
    "    vectorizer = CountVectorizer(token_pattern=r'[^ ]+')\n",
    "    font_features = vectorizer.fit_transform(df[font_column].fillna(''))\n",
    "\n",
    "    font_df = pd.DataFrame(\n",
    "        font_features.toarray(),\n",
    "        columns=[f'font_{f}' for f in vectorizer.get_feature_names_out()],\n",
    "        index=df.index\n",
    "    )\n",
    "\n",
    "    df = df.drop(columns=[font_column]).join(font_df)\n",
    "    return df"
   ],
   "id": "a3b7dca4b7520aa1",
   "outputs": [],
   "execution_count": 63
  },
  {
   "metadata": {},
   "cell_type": "markdown",
   "source": "#### Cleaning feature types",
   "id": "756ef5eeea82c21f"
  },
  {
   "metadata": {
    "ExecuteTime": {
     "end_time": "2025-04-10T18:05:34.420083Z",
     "start_time": "2025-04-10T18:05:34.416059Z"
    }
   },
   "cell_type": "code",
   "source": [
    "def clean_feature_types(df):\n",
    "    for col in df.columns:\n",
    "        # todo bedzie trzeba na to spojrzec gdy dojda kolejne atrybuty bo jest to takie niezbyt uniwersalne\n",
    "        if col.startswith('css:env') or col.startswith('js:env') or 'width' in col or 'height' in col:\n",
    "            df[col] = pd.to_numeric(df[col], errors='coerce')\n",
    "\n",
    "    # Fill missing numeric with -1\n",
    "    numeric_cols = df.select_dtypes(include='number').columns\n",
    "    df[numeric_cols] = df[numeric_cols].fillna(-1)\n",
    "\n",
    "    # Fill missing non-numeric with empty string\n",
    "    object_cols = df.select_dtypes(include='object').columns\n",
    "    df[object_cols] = df[object_cols].fillna('')\n",
    "\n",
    "    df = df.infer_objects()\n",
    "\n",
    "    return df"
   ],
   "id": "5e25368281ca4eb6",
   "outputs": [],
   "execution_count": 64
  },
  {
   "metadata": {},
   "cell_type": "markdown",
   "source": "#### Save datagframe to parquet",
   "id": "8d2549d16a8b7513"
  },
  {
   "metadata": {
    "ExecuteTime": {
     "end_time": "2025-04-10T18:05:34.431409Z",
     "start_time": "2025-04-10T18:05:34.428085Z"
    }
   },
   "cell_type": "code",
   "source": [
    "def save_features(df):\n",
    "    df.to_parquet(f'2_after_feature_extraction/{OUTPUT_NAME}.parquet')\n",
    "    df.to_csv(f'2_after_feature_extraction/{OUTPUT_NAME}.csv', index=False)"
   ],
   "id": "1d0fb10771eefa68",
   "outputs": [],
   "execution_count": 65
  },
  {
   "metadata": {},
   "cell_type": "markdown",
   "source": "### Execution",
   "id": "176fbec039423e16"
  },
  {
   "metadata": {
    "ExecuteTime": {
     "end_time": "2025-04-10T18:05:34.545897Z",
     "start_time": "2025-04-10T18:05:34.438782Z"
    }
   },
   "cell_type": "code",
   "source": [
    "# Load data\n",
    "df_raw = load_sqlite_to_dataframe(DB_PATH, TABLE_NAME)"
   ],
   "id": "dadf50c7413b1a58",
   "outputs": [],
   "execution_count": 66
  },
  {
   "metadata": {
    "ExecuteTime": {
     "end_time": "2025-04-10T18:05:34.622264Z",
     "start_time": "2025-04-10T18:05:34.555901Z"
    }
   },
   "cell_type": "code",
   "source": [
    "# Create feature matrix\n",
    "df_features = create_feature_matrix(df_raw)"
   ],
   "id": "6d4687114b32e869",
   "outputs": [],
   "execution_count": 67
  },
  {
   "metadata": {
    "ExecuteTime": {
     "end_time": "2025-04-10T18:05:34.640496Z",
     "start_time": "2025-04-10T18:05:34.631924Z"
    }
   },
   "cell_type": "code",
   "source": [
    "# Vectorize fonts\n",
    "df_features = vectorize_fonts(df_features)"
   ],
   "id": "8c9398502659b9f8",
   "outputs": [],
   "execution_count": 68
  },
  {
   "metadata": {
    "ExecuteTime": {
     "end_time": "2025-04-10T18:05:34.688101Z",
     "start_time": "2025-04-10T18:05:34.651028Z"
    }
   },
   "cell_type": "code",
   "source": [
    "# Clean feature types\n",
    "df_ready = clean_feature_types(df_features)"
   ],
   "id": "f6d26d2ac25f1ac6",
   "outputs": [],
   "execution_count": 69
  },
  {
   "metadata": {
    "ExecuteTime": {
     "end_time": "2025-04-10T18:05:34.704974Z",
     "start_time": "2025-04-10T18:05:34.697947Z"
    }
   },
   "cell_type": "code",
   "source": [
    "# test Output\n",
    "print(f\"Shape of feature matrix: {df_ready.shape}\")\n",
    "display(df_ready.head())"
   ],
   "id": "b8dfd8d749d33625",
   "outputs": [
    {
     "name": "stdout",
     "output_type": "stream",
     "text": [
      "Shape of feature matrix: (932, 138)\n"
     ]
    },
    {
     "data": {
      "text/plain": [
       "                             session_id browserstack:browser browserstack:browser_version browserstack:os browserstack:os_version  ...  font_unicode  font_univers font_vera font_vrinda  font_zwadobef\n",
       "0  0041b5e2-06c3-43a8-a837-cc0f23e9d1e9               chrome                   135.0 beta            OS X                  Sonoma  ...             0             0         0           0              0\n",
       "1  006ec0f9-9ad5-457d-8d6a-df7958ec7975               chrome                        134.0         Windows                      11  ...             0             0         0           0              0\n",
       "2  007746e4-32b0-4f39-b768-200351c74882                 edge                        124.0            OS X                Monterey  ...             0             0         0           0              0\n",
       "3  008d5537-1e12-48a5-a32f-ce831b21c74e      chromium_iphone                      unknown             ios                    16.2  ...             0             0         0           0              0\n",
       "4  00b748c3-5c91-43d2-b603-ae43d9fd4be2               chrome                        118.0            OS X                  Sonoma  ...             0             0         0           0              0\n",
       "\n",
       "[5 rows x 138 columns]"
      ],
      "text/html": [
       "<div>\n",
       "<style scoped>\n",
       "    .dataframe tbody tr th:only-of-type {\n",
       "        vertical-align: middle;\n",
       "    }\n",
       "\n",
       "    .dataframe tbody tr th {\n",
       "        vertical-align: top;\n",
       "    }\n",
       "\n",
       "    .dataframe thead th {\n",
       "        text-align: right;\n",
       "    }\n",
       "</style>\n",
       "<table border=\"1\" class=\"dataframe\">\n",
       "  <thead>\n",
       "    <tr style=\"text-align: right;\">\n",
       "      <th></th>\n",
       "      <th>session_id</th>\n",
       "      <th>browserstack:browser</th>\n",
       "      <th>browserstack:browser_version</th>\n",
       "      <th>browserstack:os</th>\n",
       "      <th>browserstack:os_version</th>\n",
       "      <th>...</th>\n",
       "      <th>font_unicode</th>\n",
       "      <th>font_univers</th>\n",
       "      <th>font_vera</th>\n",
       "      <th>font_vrinda</th>\n",
       "      <th>font_zwadobef</th>\n",
       "    </tr>\n",
       "  </thead>\n",
       "  <tbody>\n",
       "    <tr>\n",
       "      <th>0</th>\n",
       "      <td>0041b5e2-06c3-43a8-a837-cc0f23e9d1e9</td>\n",
       "      <td>chrome</td>\n",
       "      <td>135.0 beta</td>\n",
       "      <td>OS X</td>\n",
       "      <td>Sonoma</td>\n",
       "      <td>...</td>\n",
       "      <td>0</td>\n",
       "      <td>0</td>\n",
       "      <td>0</td>\n",
       "      <td>0</td>\n",
       "      <td>0</td>\n",
       "    </tr>\n",
       "    <tr>\n",
       "      <th>1</th>\n",
       "      <td>006ec0f9-9ad5-457d-8d6a-df7958ec7975</td>\n",
       "      <td>chrome</td>\n",
       "      <td>134.0</td>\n",
       "      <td>Windows</td>\n",
       "      <td>11</td>\n",
       "      <td>...</td>\n",
       "      <td>0</td>\n",
       "      <td>0</td>\n",
       "      <td>0</td>\n",
       "      <td>0</td>\n",
       "      <td>0</td>\n",
       "    </tr>\n",
       "    <tr>\n",
       "      <th>2</th>\n",
       "      <td>007746e4-32b0-4f39-b768-200351c74882</td>\n",
       "      <td>edge</td>\n",
       "      <td>124.0</td>\n",
       "      <td>OS X</td>\n",
       "      <td>Monterey</td>\n",
       "      <td>...</td>\n",
       "      <td>0</td>\n",
       "      <td>0</td>\n",
       "      <td>0</td>\n",
       "      <td>0</td>\n",
       "      <td>0</td>\n",
       "    </tr>\n",
       "    <tr>\n",
       "      <th>3</th>\n",
       "      <td>008d5537-1e12-48a5-a32f-ce831b21c74e</td>\n",
       "      <td>chromium_iphone</td>\n",
       "      <td>unknown</td>\n",
       "      <td>ios</td>\n",
       "      <td>16.2</td>\n",
       "      <td>...</td>\n",
       "      <td>0</td>\n",
       "      <td>0</td>\n",
       "      <td>0</td>\n",
       "      <td>0</td>\n",
       "      <td>0</td>\n",
       "    </tr>\n",
       "    <tr>\n",
       "      <th>4</th>\n",
       "      <td>00b748c3-5c91-43d2-b603-ae43d9fd4be2</td>\n",
       "      <td>chrome</td>\n",
       "      <td>118.0</td>\n",
       "      <td>OS X</td>\n",
       "      <td>Sonoma</td>\n",
       "      <td>...</td>\n",
       "      <td>0</td>\n",
       "      <td>0</td>\n",
       "      <td>0</td>\n",
       "      <td>0</td>\n",
       "      <td>0</td>\n",
       "    </tr>\n",
       "  </tbody>\n",
       "</table>\n",
       "<p>5 rows × 138 columns</p>\n",
       "</div>"
      ]
     },
     "metadata": {},
     "output_type": "display_data"
    }
   ],
   "execution_count": 70
  },
  {
   "metadata": {
    "ExecuteTime": {
     "end_time": "2025-04-10T18:05:34.784158Z",
     "start_time": "2025-04-10T18:05:34.714634Z"
    }
   },
   "cell_type": "code",
   "source": "save_features(df_ready)",
   "id": "1eb3bfca0bfee770",
   "outputs": [],
   "execution_count": 71
  }
 ],
 "metadata": {
  "kernelspec": {
   "display_name": "Python 3",
   "language": "python",
   "name": "python3"
  },
  "language_info": {
   "codemirror_mode": {
    "name": "ipython",
    "version": 2
   },
   "file_extension": ".py",
   "mimetype": "text/x-python",
   "name": "python",
   "nbconvert_exporter": "python",
   "pygments_lexer": "ipython2",
   "version": "2.7.6"
  }
 },
 "nbformat": 4,
 "nbformat_minor": 5
}
