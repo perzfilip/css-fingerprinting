{
 "cells": [
  {
   "metadata": {
    "ExecuteTime": {
     "end_time": "2025-05-22T15:21:57.430676Z",
     "start_time": "2025-05-22T15:21:57.427212Z"
    }
   },
   "cell_type": "code",
   "source": [
    "import sqlite3\n",
    "\n",
    "import pandas as pd\n",
    "\n",
    "# SETUP\n",
    "DB_PATH = \"0_raw_databases/1000_calc_media.db\"\n",
    "DB_PATH_CLEANED = \"1_after_cleaning_databases/1000_calc_media.db\"\n",
    "\n",
    "# to get sensible output\n",
    "pd.set_option('display.width', 400)\n",
    "pd.set_option('display.max_columns', 10)"
   ],
   "id": "50eba6d57aa73efd",
   "outputs": [],
   "execution_count": 10
  },
  {
   "cell_type": "code",
   "id": "initial_id",
   "metadata": {
    "collapsed": true,
    "ExecuteTime": {
     "end_time": "2025-05-22T15:21:57.562176Z",
     "start_time": "2025-05-22T15:21:57.441907Z"
    }
   },
   "source": [
    "conn = sqlite3.connect(DB_PATH)\n",
    "query = \"SELECT session_id, attribute, value, source FROM css_attribute\"\n",
    "df = pd.read_sql(query, conn)\n",
    "conn.close()"
   ],
   "outputs": [],
   "execution_count": 11
  },
  {
   "metadata": {},
   "cell_type": "markdown",
   "source": "## Usunięcie losowych, niezwiązanych z żadnym urządzeniem danych",
   "id": "b62b377c8d9e657d"
  },
  {
   "metadata": {
    "ExecuteTime": {
     "end_time": "2025-05-22T15:21:59.176294Z",
     "start_time": "2025-05-22T15:21:57.572918Z"
    }
   },
   "cell_type": "code",
   "source": [
    "# find all session_ids that don't have User-Agent attribute\n",
    "conn = sqlite3.connect(DB_PATH)\n",
    "query = \"\"\"\n",
    "        SELECT DISTINCT session_id\n",
    "        FROM css_attribute\n",
    "        WHERE session_id NOT IN (SELECT DISTINCT session_id\n",
    "                                 FROM css_attribute\n",
    "                                 WHERE attribute = 'User-Agent') \\\n",
    "        \"\"\"\n",
    "missing_session_ids = pd.read_sql(query, conn)\n",
    "conn.close()\n",
    "# remove duplicates\n",
    "missing_session_ids = missing_session_ids.drop_duplicates(subset=['session_id'])\n",
    "\n",
    "# remove found session_ids from the df dataframe\n",
    "for session_id in missing_session_ids['session_id']:\n",
    "    df = df[df['session_id'] != session_id]"
   ],
   "id": "d15d42e5b2cc5bcf",
   "outputs": [],
   "execution_count": 12
  },
  {
   "metadata": {},
   "cell_type": "markdown",
   "source": "## Usunięcie urządzeń, na których nie działa @container",
   "id": "18cd925eb4367cd2"
  },
  {
   "metadata": {
    "ExecuteTime": {
     "end_time": "2025-05-22T15:21:59.814602Z",
     "start_time": "2025-05-22T15:21:59.186406Z"
    }
   },
   "cell_type": "code",
   "source": [
    "conn = sqlite3.connect(DB_PATH)\n",
    "query = \"\"\"\n",
    "        SELECT session_id, attribute, value, source\n",
    "        FROM css_attribute\n",
    "        WHERE source = 'css'\n",
    "          and session_id IN (SELECT DISTINCT session_id\n",
    "                             FROM css_attribute\n",
    "                             WHERE attribute = 'User-Agent') \\\n",
    "        \"\"\"\n",
    "css_session_ids = pd.read_sql(query, conn)\n",
    "conn.close()\n",
    "# count the number of attributes for each session_id\n",
    "css_session_ids_count = css_session_ids['session_id'].value_counts()\n",
    "\n",
    "# filter the session_ids with only 2 attributes\n",
    "css_session_ids_count = css_session_ids_count[css_session_ids_count == 2]\n",
    "\n",
    "# remove duplicates\n",
    "css_session_ids_count = css_session_ids_count.reset_index()\n",
    "\n",
    "# remove found session_ids from the df dataframe\n",
    "for session_id in css_session_ids_count['session_id']:\n",
    "    df = df[df['session_id'] != session_id]"
   ],
   "id": "7467670a95f50255",
   "outputs": [],
   "execution_count": 13
  },
  {
   "metadata": {},
   "cell_type": "markdown",
   "source": "## Usunięcie sesji, które nie pochodzą od ładowania strony tylko z dodatkowych requestów podczas testów browserstack",
   "id": "ed84523c9b53f6f3"
  },
  {
   "metadata": {
    "ExecuteTime": {
     "end_time": "2025-05-22T15:22:09.039138Z",
     "start_time": "2025-05-22T15:21:59.824608Z"
    }
   },
   "cell_type": "code",
   "source": [
    "conn = sqlite3.connect(DB_PATH)\n",
    "query = \"\"\"\n",
    "        SELECT session_id, attribute, value, source\n",
    "        FROM css_attribute\n",
    "        WHERE session_id NOT IN (SELECT DISTINCT session_id\n",
    "                                 FROM css_attribute\n",
    "                                 WHERE source = 'browserstack') \\\n",
    "        \"\"\"\n",
    "missing_session_ids = pd.read_sql(query, conn)\n",
    "conn.close()\n",
    "# remove duplicates\n",
    "missing_session_ids = missing_session_ids.drop_duplicates(subset=['session_id'])\n",
    "\n",
    "# remove found session_ids from the df dataframe\n",
    "for session_id in missing_session_ids['session_id']:\n",
    "    df = df[df['session_id'] != session_id]"
   ],
   "id": "1d6e9934636638d2",
   "outputs": [],
   "execution_count": 14
  },
  {
   "metadata": {},
   "cell_type": "markdown",
   "source": "## Usunięcie sesji, na których nie działa font detection z dobranymi parametrami",
   "id": "a4d6ea70417498e3"
  },
  {
   "metadata": {
    "ExecuteTime": {
     "end_time": "2025-05-22T15:22:09.095172Z",
     "start_time": "2025-05-22T15:22:09.049654Z"
    }
   },
   "cell_type": "code",
   "source": [
    "# find all session_ids that have more than 40 attributes 'font'\n",
    "conn = sqlite3.connect(DB_PATH)\n",
    "query = \"\"\"\n",
    "        SELECT session_id, attribute, value, source\n",
    "        FROM css_attribute\n",
    "        WHERE attribute = 'font' \\\n",
    "        \"\"\"\n",
    "font_session_ids = pd.read_sql(query, conn)\n",
    "conn.close()\n",
    "\n",
    "# remove duplicates\n",
    "# font_session_ids = font_session_ids.drop_duplicates(subset=['session_id'])\n",
    "# count the number of attributes for each session_id\n",
    "font_session_ids_count = font_session_ids['session_id'].value_counts()\n",
    "# filter the session_ids with more than 40 attributes\n",
    "font_session_ids_count = font_session_ids_count[font_session_ids_count > 30]\n",
    "\n",
    "# remove found session_ids from the df dataframe\n",
    "for session_id in font_session_ids_count.index:\n",
    "    df = df[df['session_id'] != session_id]"
   ],
   "id": "8b431b333336db74",
   "outputs": [],
   "execution_count": 15
  },
  {
   "metadata": {},
   "cell_type": "markdown",
   "source": [
    "## Kod pozwalający na usunięcie wybranych sesji, które w ramach etapu 0 zostały wykryte ale nie są związane z żadnym konkretnym błędem.\n",
    "Mogą one wynikać z zbyt długiego ładowania się strony, problemów z siecią lub innych błędów, które mogły wystąpić podczas automatycznych testów"
   ],
   "id": "717a19e8851fce33"
  },
  {
   "metadata": {
    "ExecuteTime": {
     "end_time": "2025-05-22T15:22:09.177280Z",
     "start_time": "2025-05-22T15:22:09.105184Z"
    }
   },
   "cell_type": "code",
   "source": [
    "session_id_list = [\n",
    "\"01a304a7-f93f-422f-9896-7aafd63986db\",\n",
    "\"6bf64725-6436-47cb-8f34-7ce6b8d124b9\",\n",
    "\"71bb6995-47ab-47f9-8fc9-6088e45a11d4\",\n",
    "\"c47593b1-eb07-4aa2-80a3-6fab6d03e746\",\n",
    "\"c98bedfa-709d-4cb0-9b63-15cf72fdb3b9\",\n",
    "\"d8723313-d1b0-4449-ae8c-73880012ddf0\",\n",
    "\"e192240f-6e06-46e5-abf9-9a476cfdc169\"\n",
    "]\n",
    "# remove found session_ids from the df dataframe\n",
    "for session_id in session_id_list:\n",
    "    df = df[df['session_id'] != session_id]"
   ],
   "id": "5125b491d26bc11",
   "outputs": [],
   "execution_count": 16
  },
  {
   "metadata": {},
   "cell_type": "markdown",
   "source": "## Ostateczna liczba unikalnych sesji, po oczyszczeniu",
   "id": "c31072c3d28e45a7"
  },
  {
   "metadata": {
    "ExecuteTime": {
     "end_time": "2025-05-22T15:22:09.194319Z",
     "start_time": "2025-05-22T15:22:09.186315Z"
    }
   },
   "cell_type": "code",
   "source": [
    "# check how many session_ids are left in dataframe\n",
    "unique_session_ids_count = df['session_id'].drop_duplicates().shape[0]\n",
    "\n",
    "print(f\"Number of unique session_ids: {unique_session_ids_count}\")"
   ],
   "id": "e46b11ba2a92d60a",
   "outputs": [
    {
     "name": "stdout",
     "output_type": "stream",
     "text": [
      "Number of unique session_ids: 922\n"
     ]
    }
   ],
   "execution_count": 17
  },
  {
   "metadata": {
    "ExecuteTime": {
     "end_time": "2025-05-22T15:22:09.323501Z",
     "start_time": "2025-05-22T15:22:09.205331Z"
    }
   },
   "cell_type": "code",
   "source": [
    "# save the cleaned dataframe to the new sqlite database\n",
    "conn = sqlite3.connect(DB_PATH_CLEANED)\n",
    "df.to_sql('css_attribute', conn, if_exists='replace', index=False)\n",
    "conn.close()"
   ],
   "id": "52f809b608bfde6c",
   "outputs": [],
   "execution_count": 18
  }
 ],
 "metadata": {
  "kernelspec": {
   "display_name": "Python 3",
   "language": "python",
   "name": "python3"
  },
  "language_info": {
   "codemirror_mode": {
    "name": "ipython",
    "version": 2
   },
   "file_extension": ".py",
   "mimetype": "text/x-python",
   "name": "python",
   "nbconvert_exporter": "python",
   "pygments_lexer": "ipython2",
   "version": "2.7.6"
  }
 },
 "nbformat": 4,
 "nbformat_minor": 5
}
