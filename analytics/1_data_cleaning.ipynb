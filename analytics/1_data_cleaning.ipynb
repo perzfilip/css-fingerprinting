{
 "cells": [
  {
   "metadata": {
    "ExecuteTime": {
     "end_time": "2025-05-20T16:59:50.590859Z",
     "start_time": "2025-05-20T16:59:50.587770Z"
    }
   },
   "cell_type": "code",
   "source": [
    "import sqlite3\n",
    "\n",
    "import pandas as pd\n",
    "\n",
    "# SETUP\n",
    "DB_PATH = \"0_raw_databases/database_calc_test.db\"\n",
    "DB_PATH_CLEANED = \"1_after_cleaning_databases/1000_devices_media_calc_test.db\"\n",
    "\n",
    "# to get sensible output\n",
    "pd.set_option('display.width', 400)\n",
    "pd.set_option('display.max_columns', 10)"
   ],
   "id": "50eba6d57aa73efd",
   "outputs": [],
   "execution_count": 19
  },
  {
   "cell_type": "code",
   "id": "initial_id",
   "metadata": {
    "collapsed": true,
    "ExecuteTime": {
     "end_time": "2025-05-20T16:59:50.714631Z",
     "start_time": "2025-05-20T16:59:50.602043Z"
    }
   },
   "source": [
    "conn = sqlite3.connect(DB_PATH)\n",
    "query = \"SELECT session_id, attribute, value, source FROM css_attribute\"\n",
    "df = pd.read_sql(query, conn)\n",
    "conn.close()"
   ],
   "outputs": [],
   "execution_count": 20
  },
  {
   "metadata": {},
   "cell_type": "markdown",
   "source": "## Usunięcie losowych, niezwiązanych z żadnym urządzeniem danych",
   "id": "b62b377c8d9e657d"
  },
  {
   "metadata": {
    "ExecuteTime": {
     "end_time": "2025-05-20T16:59:52.089759Z",
     "start_time": "2025-05-20T16:59:50.724762Z"
    }
   },
   "cell_type": "code",
   "source": [
    "# find all session_ids that don't have User-Agent attribute\n",
    "conn = sqlite3.connect(DB_PATH)\n",
    "query = \"\"\"\n",
    "        SELECT DISTINCT session_id\n",
    "        FROM css_attribute\n",
    "        WHERE session_id NOT IN (SELECT DISTINCT session_id\n",
    "                                 FROM css_attribute\n",
    "                                 WHERE attribute = 'User-Agent') \\\n",
    "        \"\"\"\n",
    "missing_session_ids = pd.read_sql(query, conn)\n",
    "conn.close()\n",
    "# remove duplicates\n",
    "missing_session_ids = missing_session_ids.drop_duplicates(subset=['session_id'])\n",
    "\n",
    "# remove found session_ids from the df dataframe\n",
    "for session_id in missing_session_ids['session_id']:\n",
    "    df = df[df['session_id'] != session_id]"
   ],
   "id": "d15d42e5b2cc5bcf",
   "outputs": [],
   "execution_count": 21
  },
  {
   "metadata": {},
   "cell_type": "markdown",
   "source": "## Usunięcie urządzeń, na których nie działa @container",
   "id": "18cd925eb4367cd2"
  },
  {
   "metadata": {
    "ExecuteTime": {
     "end_time": "2025-05-20T16:59:52.629520Z",
     "start_time": "2025-05-20T16:59:52.098713Z"
    }
   },
   "cell_type": "code",
   "source": [
    "conn = sqlite3.connect(DB_PATH)\n",
    "query = \"\"\"\n",
    "        SELECT session_id, attribute, value, source\n",
    "        FROM css_attribute\n",
    "        WHERE source = 'css'\n",
    "          and session_id IN (SELECT DISTINCT session_id\n",
    "                             FROM css_attribute\n",
    "                             WHERE attribute = 'User-Agent') \\\n",
    "        \"\"\"\n",
    "css_session_ids = pd.read_sql(query, conn)\n",
    "conn.close()\n",
    "# count the number of attributes for each session_id\n",
    "css_session_ids_count = css_session_ids['session_id'].value_counts()\n",
    "\n",
    "# filter the session_ids with only 2 attributes\n",
    "css_session_ids_count = css_session_ids_count[css_session_ids_count == 2]\n",
    "\n",
    "# remove duplicates\n",
    "css_session_ids_count = css_session_ids_count.reset_index()\n",
    "\n",
    "# remove found session_ids from the df dataframe\n",
    "for session_id in css_session_ids_count['session_id']:\n",
    "    df = df[df['session_id'] != session_id]"
   ],
   "id": "7467670a95f50255",
   "outputs": [],
   "execution_count": 22
  },
  {
   "metadata": {},
   "cell_type": "markdown",
   "source": "## Usunięcie sesji, które nie pochodzą od ładowania strony tylko z dodatkowych requestów podczas testów browserstack",
   "id": "ed84523c9b53f6f3"
  },
  {
   "metadata": {
    "ExecuteTime": {
     "end_time": "2025-05-20T17:00:01.249051Z",
     "start_time": "2025-05-20T16:59:52.638393Z"
    }
   },
   "cell_type": "code",
   "source": [
    "conn = sqlite3.connect(DB_PATH)\n",
    "query = \"\"\"\n",
    "        SELECT session_id, attribute, value, source\n",
    "        FROM css_attribute\n",
    "        WHERE session_id NOT IN (SELECT DISTINCT session_id\n",
    "                                 FROM css_attribute\n",
    "                                 WHERE source = 'browserstack') \\\n",
    "        \"\"\"\n",
    "missing_session_ids = pd.read_sql(query, conn)\n",
    "conn.close()\n",
    "# remove duplicates\n",
    "missing_session_ids = missing_session_ids.drop_duplicates(subset=['session_id'])\n",
    "\n",
    "# remove found session_ids from the df dataframe\n",
    "for session_id in missing_session_ids['session_id']:\n",
    "    df = df[df['session_id'] != session_id]"
   ],
   "id": "1d6e9934636638d2",
   "outputs": [],
   "execution_count": 23
  },
  {
   "metadata": {},
   "cell_type": "markdown",
   "source": "## Usunięcie sesji, na których nie działa font detection z dobranymi parametrami",
   "id": "a4d6ea70417498e3"
  },
  {
   "metadata": {
    "ExecuteTime": {
     "end_time": "2025-05-20T17:00:01.312119Z",
     "start_time": "2025-05-20T17:00:01.259120Z"
    }
   },
   "cell_type": "code",
   "source": [
    "# find all session_ids that have more than 40 attributes 'font'\n",
    "conn = sqlite3.connect(DB_PATH)\n",
    "query = \"\"\"\n",
    "        SELECT session_id, attribute, value, source\n",
    "        FROM css_attribute\n",
    "        WHERE attribute = 'font' \\\n",
    "        \"\"\"\n",
    "font_session_ids = pd.read_sql(query, conn)\n",
    "conn.close()\n",
    "\n",
    "# remove duplicates\n",
    "# font_session_ids = font_session_ids.drop_duplicates(subset=['session_id'])\n",
    "# count the number of attributes for each session_id\n",
    "font_session_ids_count = font_session_ids['session_id'].value_counts()\n",
    "# filter the session_ids with more than 40 attributes\n",
    "font_session_ids_count = font_session_ids_count[font_session_ids_count > 30]\n",
    "\n",
    "# remove found session_ids from the df dataframe\n",
    "for session_id in font_session_ids_count.index:\n",
    "    df = df[df['session_id'] != session_id]"
   ],
   "id": "8b431b333336db74",
   "outputs": [],
   "execution_count": 24
  },
  {
   "metadata": {},
   "cell_type": "markdown",
   "source": [
    "## Kod pozwalający na usunięcie wybranych sesji, które w ramach etapu 0 zostały wykryte ale nie są związane z żadnym konkretnym błędem.\n",
    "Mogą one wynikać z zbyt długiego ładowania się strony, problemów z siecią lub innych błędów, które mogły wystąpić podczas automatycznych testów"
   ],
   "id": "717a19e8851fce33"
  },
  {
   "metadata": {
    "ExecuteTime": {
     "end_time": "2025-05-20T17:00:01.371209Z",
     "start_time": "2025-05-20T17:00:01.321155Z"
    }
   },
   "cell_type": "code",
   "source": [
    "session_id_list = [\n",
    "    \"0730d7c9-c9f3-4eab-a6d4-36bfe345c0c1\",\n",
    "    \"11e5cb93-fa0f-4f3c-90f1-a97525075567\",\n",
    "    \"42a90351-f69e-466b-b802-5014a63e6488\",\n",
    "    \"af8af2c5-8bbf-4325-8d72-7edd78e0989e\",\n",
    "    \"ff9ecd23-f99c-4a74-ac9c-f709fdc1c3df\"\n",
    "]\n",
    "# remove found session_ids from the df dataframe\n",
    "for session_id in session_id_list:\n",
    "    df = df[df['session_id'] != session_id]"
   ],
   "id": "5125b491d26bc11",
   "outputs": [],
   "execution_count": 25
  },
  {
   "metadata": {},
   "cell_type": "markdown",
   "source": "## Ostateczna liczba unikalnych sesji, po oczyszczeniu",
   "id": "c31072c3d28e45a7"
  },
  {
   "metadata": {
    "ExecuteTime": {
     "end_time": "2025-05-20T17:00:01.386506Z",
     "start_time": "2025-05-20T17:00:01.380507Z"
    }
   },
   "cell_type": "code",
   "source": [
    "# check how many session_ids are left in dataframe\n",
    "unique_session_ids_count = df['session_id'].drop_duplicates().shape[0]\n",
    "\n",
    "print(f\"Number of unique session_ids: {unique_session_ids_count}\")"
   ],
   "id": "e46b11ba2a92d60a",
   "outputs": [
    {
     "name": "stdout",
     "output_type": "stream",
     "text": [
      "Number of unique session_ids: 922\n"
     ]
    }
   ],
   "execution_count": 26
  },
  {
   "metadata": {
    "ExecuteTime": {
     "end_time": "2025-05-20T17:00:01.516591Z",
     "start_time": "2025-05-20T17:00:01.404991Z"
    }
   },
   "cell_type": "code",
   "source": [
    "# save the cleaned dataframe to the new sqlite database\n",
    "conn = sqlite3.connect(DB_PATH_CLEANED)\n",
    "df.to_sql('css_attribute', conn, if_exists='replace', index=False)\n",
    "conn.close()"
   ],
   "id": "52f809b608bfde6c",
   "outputs": [],
   "execution_count": 27
  }
 ],
 "metadata": {
  "kernelspec": {
   "display_name": "Python 3",
   "language": "python",
   "name": "python3"
  },
  "language_info": {
   "codemirror_mode": {
    "name": "ipython",
    "version": 2
   },
   "file_extension": ".py",
   "mimetype": "text/x-python",
   "name": "python",
   "nbconvert_exporter": "python",
   "pygments_lexer": "ipython2",
   "version": "2.7.6"
  }
 },
 "nbformat": 4,
 "nbformat_minor": 5
}
