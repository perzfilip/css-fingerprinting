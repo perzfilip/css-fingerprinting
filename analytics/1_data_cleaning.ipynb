{
 "cells": [
  {
   "metadata": {
    "ExecuteTime": {
     "end_time": "2025-04-10T17:53:43.863075Z",
     "start_time": "2025-04-10T17:53:43.860678Z"
    }
   },
   "cell_type": "code",
   "source": [
    "import sqlite3\n",
    "\n",
    "import pandas as pd\n",
    "\n",
    "# SETUP\n",
    "DB_PATH = \"0_raw_databases/1000_devices_2.db\"\n",
    "DB_PATH_CLEANED = \"1_after_cleaning_databases/1000_devices_cleaned.db\"\n",
    "\n",
    "# to get sensible output\n",
    "pd.set_option('display.width', 400)\n",
    "pd.set_option('display.max_columns', 10)"
   ],
   "id": "50eba6d57aa73efd",
   "outputs": [],
   "execution_count": 8
  },
  {
   "cell_type": "code",
   "id": "initial_id",
   "metadata": {
    "collapsed": true,
    "ExecuteTime": {
     "end_time": "2025-04-10T17:53:43.935219Z",
     "start_time": "2025-04-10T17:53:43.868584Z"
    }
   },
   "source": [
    "conn = sqlite3.connect(DB_PATH)\n",
    "query = \"SELECT session_id, attribute, value, source FROM css_attribute\"\n",
    "df = pd.read_sql(query, conn)\n",
    "conn.close()"
   ],
   "outputs": [],
   "execution_count": 9
  },
  {
   "metadata": {},
   "cell_type": "markdown",
   "source": "## Usunięcie losowych, niezwiązanych z żadnym urządzeniem danych",
   "id": "b62b377c8d9e657d"
  },
  {
   "metadata": {
    "ExecuteTime": {
     "end_time": "2025-04-10T17:53:44.419324Z",
     "start_time": "2025-04-10T17:53:43.943537Z"
    }
   },
   "cell_type": "code",
   "source": [
    "# find all session_ids that don't have User-Agent attribute\n",
    "conn = sqlite3.connect(DB_PATH)\n",
    "query = \"\"\"\n",
    "SELECT DISTINCT session_id\n",
    "FROM css_attribute\n",
    "WHERE session_id NOT IN (\n",
    "    SELECT DISTINCT session_id\n",
    "    FROM css_attribute\n",
    "    WHERE attribute = 'User-Agent'\n",
    ")\n",
    "\"\"\"\n",
    "missing_session_ids = pd.read_sql(query, conn)\n",
    "conn.close()\n",
    "# remove duplicates\n",
    "missing_session_ids = missing_session_ids.drop_duplicates(subset=['session_id'])\n",
    "\n",
    "# remove found session_ids from the df dataframe\n",
    "for session_id in missing_session_ids['session_id']:\n",
    "    df = df[df['session_id'] != session_id]"
   ],
   "id": "d15d42e5b2cc5bcf",
   "outputs": [],
   "execution_count": 10
  },
  {
   "metadata": {},
   "cell_type": "markdown",
   "source": "## Usunięcie urządzeń, na których nie działa @container",
   "id": "18cd925eb4367cd2"
  },
  {
   "metadata": {
    "ExecuteTime": {
     "end_time": "2025-04-10T17:53:44.760851Z",
     "start_time": "2025-04-10T17:53:44.428514Z"
    }
   },
   "cell_type": "code",
   "source": [
    "conn = sqlite3.connect(DB_PATH)\n",
    "query = \"\"\"\n",
    "SELECT session_id, attribute, value, source\n",
    "FROM css_attribute\n",
    "WHERE source = 'css' and session_id IN (\n",
    "        SELECT DISTINCT session_id\n",
    "        FROM css_attribute\n",
    "        WHERE attribute = 'User-Agent'\n",
    "    )\n",
    "\"\"\"\n",
    "css_session_ids = pd.read_sql(query, conn)\n",
    "conn.close()\n",
    "# count the number of attributes for each session_id\n",
    "css_session_ids_count = css_session_ids['session_id'].value_counts()\n",
    "\n",
    "# filter the session_ids with only 2 attributes\n",
    "css_session_ids_count = css_session_ids_count[css_session_ids_count == 2]\n",
    "\n",
    "# remove duplicates\n",
    "css_session_ids_count = css_session_ids_count.reset_index()\n",
    "\n",
    "# remove found session_ids from the df dataframe\n",
    "for session_id in css_session_ids_count['session_id']:\n",
    "    df = df[df['session_id'] != session_id]"
   ],
   "id": "7467670a95f50255",
   "outputs": [],
   "execution_count": 11
  },
  {
   "metadata": {},
   "cell_type": "markdown",
   "source": "## Usunięciee sesji, które nie pochodzą od ładowania strony tylko z dodatkowych requestów podczas testów browserstack",
   "id": "ed84523c9b53f6f3"
  },
  {
   "metadata": {
    "ExecuteTime": {
     "end_time": "2025-04-10T17:53:49.189271Z",
     "start_time": "2025-04-10T17:53:44.767768Z"
    }
   },
   "cell_type": "code",
   "source": [
    "conn = sqlite3.connect(DB_PATH)\n",
    "query = \"\"\"\n",
    "SELECT session_id, attribute, value, source\n",
    "FROM css_attribute\n",
    "WHERE session_id NOT IN (\n",
    "    SELECT DISTINCT session_id\n",
    "    FROM css_attribute\n",
    "    WHERE source = 'browserstack'\n",
    ")\n",
    "\"\"\"\n",
    "missing_session_ids = pd.read_sql(query, conn)\n",
    "conn.close()\n",
    "# remove duplicates\n",
    "missing_session_ids = missing_session_ids.drop_duplicates(subset=['session_id'])\n",
    "\n",
    "# remove found session_ids from the df dataframe\n",
    "for session_id in missing_session_ids['session_id']:\n",
    "    df = df[df['session_id'] != session_id]"
   ],
   "id": "1d6e9934636638d2",
   "outputs": [],
   "execution_count": 12
  },
  {
   "metadata": {
    "ExecuteTime": {
     "end_time": "2025-04-10T17:53:49.201782Z",
     "start_time": "2025-04-10T17:53:49.196782Z"
    }
   },
   "cell_type": "code",
   "source": [
    "# check how many session_ids are left in dataframe\n",
    "unique_session_ids_count = df['session_id'].drop_duplicates().shape[0]\n",
    "\n",
    "print(f\"Number of unique session_ids: {unique_session_ids_count}\")"
   ],
   "id": "e46b11ba2a92d60a",
   "outputs": [
    {
     "name": "stdout",
     "output_type": "stream",
     "text": [
      "Number of unique session_ids: 932\n"
     ]
    }
   ],
   "execution_count": 13
  },
  {
   "metadata": {
    "ExecuteTime": {
     "end_time": "2025-04-10T17:53:49.343779Z",
     "start_time": "2025-04-10T17:53:49.268464Z"
    }
   },
   "cell_type": "code",
   "source": [
    "# save the cleaned dataframe to the new sqlite database\n",
    "conn = sqlite3.connect(DB_PATH_CLEANED)\n",
    "df.to_sql('css_attribute', conn, if_exists='replace', index=False)\n",
    "conn.close()"
   ],
   "id": "52f809b608bfde6c",
   "outputs": [],
   "execution_count": 14
  }
 ],
 "metadata": {
  "kernelspec": {
   "display_name": "Python 3",
   "language": "python",
   "name": "python3"
  },
  "language_info": {
   "codemirror_mode": {
    "name": "ipython",
    "version": 2
   },
   "file_extension": ".py",
   "mimetype": "text/x-python",
   "name": "python",
   "nbconvert_exporter": "python",
   "pygments_lexer": "ipython2",
   "version": "2.7.6"
  }
 },
 "nbformat": 4,
 "nbformat_minor": 5
}
