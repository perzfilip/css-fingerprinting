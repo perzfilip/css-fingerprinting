{
 "cells": [
  {
   "metadata": {
    "ExecuteTime": {
     "end_time": "2025-04-29T17:42:33.115507Z",
     "start_time": "2025-04-29T17:42:33.111940Z"
    }
   },
   "cell_type": "code",
   "source": [
    "import sqlite3\n",
    "\n",
    "import pandas as pd\n",
    "\n",
    "# SETUP\n",
    "DB_PATH = \"0_raw_databases/1000_database_media.db\"\n",
    "DB_PATH_CLEANED = \"1_after_cleaning_databases/1000_devices_media_cleaned.db\"\n",
    "\n",
    "# to get sensible output\n",
    "pd.set_option('display.width', 400)\n",
    "pd.set_option('display.max_columns', 10)"
   ],
   "id": "50eba6d57aa73efd",
   "outputs": [],
   "execution_count": 17
  },
  {
   "cell_type": "code",
   "id": "initial_id",
   "metadata": {
    "collapsed": true,
    "ExecuteTime": {
     "end_time": "2025-04-29T17:42:33.212996Z",
     "start_time": "2025-04-29T17:42:33.130686Z"
    }
   },
   "source": [
    "conn = sqlite3.connect(DB_PATH)\n",
    "query = \"SELECT session_id, attribute, value, source FROM css_attribute\"\n",
    "df = pd.read_sql(query, conn)\n",
    "conn.close()"
   ],
   "outputs": [],
   "execution_count": 18
  },
  {
   "metadata": {},
   "cell_type": "markdown",
   "source": "## Usunięcie losowych, niezwiązanych z żadnym urządzeniem danych",
   "id": "b62b377c8d9e657d"
  },
  {
   "metadata": {
    "ExecuteTime": {
     "end_time": "2025-04-29T17:42:33.614067Z",
     "start_time": "2025-04-29T17:42:33.224058Z"
    }
   },
   "cell_type": "code",
   "source": [
    "# find all session_ids that don't have User-Agent attribute\n",
    "conn = sqlite3.connect(DB_PATH)\n",
    "query = \"\"\"\n",
    "        SELECT DISTINCT session_id\n",
    "        FROM css_attribute\n",
    "        WHERE session_id NOT IN (SELECT DISTINCT session_id\n",
    "                                 FROM css_attribute\n",
    "                                 WHERE attribute = 'User-Agent') \\\n",
    "        \"\"\"\n",
    "missing_session_ids = pd.read_sql(query, conn)\n",
    "conn.close()\n",
    "# remove duplicates\n",
    "missing_session_ids = missing_session_ids.drop_duplicates(subset=['session_id'])\n",
    "\n",
    "# remove found session_ids from the df dataframe\n",
    "for session_id in missing_session_ids['session_id']:\n",
    "    df = df[df['session_id'] != session_id]"
   ],
   "id": "d15d42e5b2cc5bcf",
   "outputs": [],
   "execution_count": 19
  },
  {
   "metadata": {},
   "cell_type": "markdown",
   "source": "## Usunięcie urządzeń, na których nie działa @container",
   "id": "18cd925eb4367cd2"
  },
  {
   "metadata": {
    "ExecuteTime": {
     "end_time": "2025-04-29T17:42:33.993920Z",
     "start_time": "2025-04-29T17:42:33.623903Z"
    }
   },
   "cell_type": "code",
   "source": [
    "conn = sqlite3.connect(DB_PATH)\n",
    "query = \"\"\"\n",
    "        SELECT session_id, attribute, value, source\n",
    "        FROM css_attribute\n",
    "        WHERE source = 'css'\n",
    "          and session_id IN (SELECT DISTINCT session_id\n",
    "                             FROM css_attribute\n",
    "                             WHERE attribute = 'User-Agent') \\\n",
    "        \"\"\"\n",
    "css_session_ids = pd.read_sql(query, conn)\n",
    "conn.close()\n",
    "# count the number of attributes for each session_id\n",
    "css_session_ids_count = css_session_ids['session_id'].value_counts()\n",
    "\n",
    "# filter the session_ids with only 2 attributes\n",
    "css_session_ids_count = css_session_ids_count[css_session_ids_count == 2]\n",
    "\n",
    "# remove duplicates\n",
    "css_session_ids_count = css_session_ids_count.reset_index()\n",
    "\n",
    "# remove found session_ids from the df dataframe\n",
    "for session_id in css_session_ids_count['session_id']:\n",
    "    df = df[df['session_id'] != session_id]"
   ],
   "id": "7467670a95f50255",
   "outputs": [],
   "execution_count": 20
  },
  {
   "metadata": {},
   "cell_type": "markdown",
   "source": "## Usunięcie sesji, które nie pochodzą od ładowania strony tylko z dodatkowych requestów podczas testów browserstack",
   "id": "ed84523c9b53f6f3"
  },
  {
   "metadata": {
    "ExecuteTime": {
     "end_time": "2025-04-29T17:42:39.208597Z",
     "start_time": "2025-04-29T17:42:34.003464Z"
    }
   },
   "cell_type": "code",
   "source": [
    "conn = sqlite3.connect(DB_PATH)\n",
    "query = \"\"\"\n",
    "        SELECT session_id, attribute, value, source\n",
    "        FROM css_attribute\n",
    "        WHERE session_id NOT IN (SELECT DISTINCT session_id\n",
    "                                 FROM css_attribute\n",
    "                                 WHERE source = 'browserstack') \\\n",
    "        \"\"\"\n",
    "missing_session_ids = pd.read_sql(query, conn)\n",
    "conn.close()\n",
    "# remove duplicates\n",
    "missing_session_ids = missing_session_ids.drop_duplicates(subset=['session_id'])\n",
    "\n",
    "# remove found session_ids from the df dataframe\n",
    "for session_id in missing_session_ids['session_id']:\n",
    "    df = df[df['session_id'] != session_id]"
   ],
   "id": "1d6e9934636638d2",
   "outputs": [],
   "execution_count": 21
  },
  {
   "metadata": {},
   "cell_type": "markdown",
   "source": "## Usunięcie sesji, na których nie działa font detection z dobranymi parametrami",
   "id": "a4d6ea70417498e3"
  },
  {
   "metadata": {
    "ExecuteTime": {
     "end_time": "2025-04-29T17:42:39.245657Z",
     "start_time": "2025-04-29T17:42:39.219202Z"
    }
   },
   "cell_type": "code",
   "source": [
    "# find all session_ids that have more than 40 attributes 'font'\n",
    "conn = sqlite3.connect(DB_PATH)\n",
    "query = \"\"\"\n",
    "        SELECT session_id, attribute, value, source\n",
    "        FROM css_attribute\n",
    "        WHERE attribute = 'font' \\\n",
    "        \"\"\"\n",
    "font_session_ids = pd.read_sql(query, conn)\n",
    "conn.close()\n",
    "\n",
    "# remove duplicates\n",
    "# font_session_ids = font_session_ids.drop_duplicates(subset=['session_id'])\n",
    "# count the number of attributes for each session_id\n",
    "font_session_ids_count = font_session_ids['session_id'].value_counts()\n",
    "# filter the session_ids with more than 40 attributes\n",
    "font_session_ids_count = font_session_ids_count[font_session_ids_count > 30]\n",
    "\n",
    "# remove found session_ids from the df dataframe\n",
    "for session_id in font_session_ids_count.index:\n",
    "    df = df[df['session_id'] != session_id]"
   ],
   "id": "8b431b333336db74",
   "outputs": [],
   "execution_count": 22
  },
  {
   "metadata": {},
   "cell_type": "markdown",
   "source": [
    "## Kod pozwalający na usunięcie wybranych sesji, które w ramach etapu 0 zostały wykryte ale nie są związane z żadnym konkretnym błędem.\n",
    "Mogą one wynikać z zbyt długiego ładowania się strony, problemów z siecią lub innych błędów, które mogły wystąpić podczas automatycznych testów"
   ],
   "id": "717a19e8851fce33"
  },
  {
   "metadata": {
    "ExecuteTime": {
     "end_time": "2025-04-29T17:42:39.348560Z",
     "start_time": "2025-04-29T17:42:39.256170Z"
    }
   },
   "cell_type": "code",
   "source": [
    "session_id_list = [\n",
    "    \"375b904c-424d-46a2-b907-909d5100461e\",\n",
    "    \"43307808-5861-44a7-86d9-7914d635bdfa\",\n",
    "    \"4e20e8b0-2427-40d5-ab77-84c462f7e11f\",\n",
    "    \"5810ff32-7126-4911-95cb-8a1e4481400d\",\n",
    "    \"62e191d2-f02c-4fb2-bc4f-0cc42fe332f2\",\n",
    "    \"6b2c152d-65a1-4ba6-a9b7-a7a5a1589647\",\n",
    "    \"778ea450-d21b-4951-9a30-9ea55c73d457\",\n",
    "    \"9328aa58-6007-4e61-b8e5-c8ccc676ad24\",\n",
    "    \"abbf2ce4-b484-4816-86bd-ba641b1af990\",\n",
    "    \"cb3cba62-ed5b-4f63-8e9d-7cd585f63cc3\",\n",
    "    \"d278e5d3-68a3-48aa-8621-1875312f3ff9\",\n",
    "    \"d8f00dbd-f5e2-47a7-9a75-43e4b5425364\",\n",
    "    \"edeaa1cd-1b86-46cc-9b17-239e81552d3f\"\n",
    "]\n",
    "# remove found session_ids from the df dataframe\n",
    "for session_id in session_id_list:\n",
    "    df = df[df['session_id'] != session_id]"
   ],
   "id": "5125b491d26bc11",
   "outputs": [],
   "execution_count": 23
  },
  {
   "metadata": {},
   "cell_type": "markdown",
   "source": "## Ostateczna liczba unikalnych sesji, po oczyszczeniu",
   "id": "c31072c3d28e45a7"
  },
  {
   "metadata": {
    "ExecuteTime": {
     "end_time": "2025-04-29T17:42:39.366564Z",
     "start_time": "2025-04-29T17:42:39.360616Z"
    }
   },
   "cell_type": "code",
   "source": [
    "# check how many session_ids are left in dataframe\n",
    "unique_session_ids_count = df['session_id'].drop_duplicates().shape[0]\n",
    "\n",
    "print(f\"Number of unique session_ids: {unique_session_ids_count}\")"
   ],
   "id": "e46b11ba2a92d60a",
   "outputs": [
    {
     "name": "stdout",
     "output_type": "stream",
     "text": [
      "Number of unique session_ids: 918\n"
     ]
    }
   ],
   "execution_count": 24
  },
  {
   "metadata": {
    "ExecuteTime": {
     "end_time": "2025-04-29T17:42:39.484211Z",
     "start_time": "2025-04-29T17:42:39.379847Z"
    }
   },
   "cell_type": "code",
   "source": [
    "# save the cleaned dataframe to the new sqlite database\n",
    "conn = sqlite3.connect(DB_PATH_CLEANED)\n",
    "df.to_sql('css_attribute', conn, if_exists='replace', index=False)\n",
    "conn.close()"
   ],
   "id": "52f809b608bfde6c",
   "outputs": [],
   "execution_count": 25
  }
 ],
 "metadata": {
  "kernelspec": {
   "display_name": "Python 3",
   "language": "python",
   "name": "python3"
  },
  "language_info": {
   "codemirror_mode": {
    "name": "ipython",
    "version": 2
   },
   "file_extension": ".py",
   "mimetype": "text/x-python",
   "name": "python",
   "nbconvert_exporter": "python",
   "pygments_lexer": "ipython2",
   "version": "2.7.6"
  }
 },
 "nbformat": 4,
 "nbformat_minor": 5
}
